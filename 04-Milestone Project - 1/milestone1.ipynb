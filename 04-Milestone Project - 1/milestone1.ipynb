{
 "cells": [
  {
   "cell_type": "code",
   "execution_count": 1,
   "metadata": {},
   "outputs": [],
   "source": [
    "from IPython.display import clear_output\n",
    "\n",
    "def display_board(board):\n",
    "    clear_output()\n",
    "    el = \"   |   |   \"\n",
    "    dl = \"-----------\"\n",
    "    rows = [el, \n",
    "            \" \"+board[1]+\" | \"+board[2]+\" | \"+board[3],\n",
    "            el, dl, el,\n",
    "            \" \"+board[4]+\" | \"+board[5]+\" | \"+board[6],\n",
    "            el, dl,el,\n",
    "            \" \"+board[7]+\" | \"+board[8]+\" | \"+board[9],\n",
    "            el]\n",
    "    for row in rows:\n",
    "        print(row)"
   ]
  },
  {
   "cell_type": "code",
   "execution_count": 2,
   "metadata": {},
   "outputs": [],
   "source": [
    "def player_input():\n",
    "    while True:\n",
    "        player1 = raw_input(\"Player1: Please choose X or O: \")\n",
    "        if player1 != 'X' and player1 != 'O':\n",
    "            print(\"Oops! Needs to be X or O\")\n",
    "            continue\n",
    "        else:\n",
    "            print(\"Thanks\")\n",
    "            break\n",
    "    return player1"
   ]
  },
  {
   "cell_type": "code",
   "execution_count": 3,
   "metadata": {},
   "outputs": [],
   "source": [
    "def place_marker(board, marker, position):\n",
    "    board[position] = marker"
   ]
  },
  {
   "cell_type": "code",
   "execution_count": 4,
   "metadata": {},
   "outputs": [],
   "source": [
    "def win_check(board, mark):\n",
    "    won = False\n",
    "    win = [[1,2,3],[4,5,6],[7,8,9],[1,4,7],[2,5,8],[3,6,9],[1,5,9],[3,5,7]]\n",
    "    for win_case in win:\n",
    "        c1 = board[win_case[0]]\n",
    "        c2 = board[win_case[1]]\n",
    "        c3 = board[win_case[2]]\n",
    "        if c1+c2+c3 == mark*3:\n",
    "            return True\n",
    "    return False"
   ]
  },
  {
   "cell_type": "code",
   "execution_count": 5,
   "metadata": {},
   "outputs": [],
   "source": [
    "import random\n",
    "def choose_first():\n",
    "    return random.randint(1,2)"
   ]
  },
  {
   "cell_type": "code",
   "execution_count": 6,
   "metadata": {},
   "outputs": [],
   "source": [
    "def space_check(board, position):\n",
    "    return board[position] in ['1','2','3','4','5','6','7','8','9']"
   ]
  },
  {
   "cell_type": "code",
   "execution_count": 7,
   "metadata": {},
   "outputs": [],
   "source": [
    "def full_board_check(board):\n",
    "    test_board = ['1','2','3','4','5','6','7','8','9']\n",
    "    return len(set(board).intersection(test_board)) == 0"
   ]
  },
  {
   "cell_type": "code",
   "execution_count": 8,
   "metadata": {},
   "outputs": [],
   "source": [
    "def player_choice(board,player):\n",
    "    pos = int(raw_input(\"Player {}: Insert next position: \".format(player)))\n",
    "    #if space_check(board,pos):\n",
    "    return pos"
   ]
  },
  {
   "cell_type": "code",
   "execution_count": 9,
   "metadata": {},
   "outputs": [],
   "source": [
    "def replay():\n",
    "    return raw_input(\"Replay Y/N: \") == \"Y\""
   ]
  },
  {
   "cell_type": "code",
   "execution_count": 10,
   "metadata": {},
   "outputs": [
    {
     "name": "stdout",
     "output_type": "stream",
     "text": [
      "   |   |   \n",
      " X | O | 3\n",
      "   |   |   \n",
      "-----------\n",
      "   |   |   \n",
      " 4 | X | O\n",
      "   |   |   \n",
      "-----------\n",
      "   |   |   \n",
      " 7 | 8 | X\n",
      "   |   |   \n",
      "Congratulations player 1. You win!\n"
     ]
    }
   ],
   "source": [
    "#Step 10: Here comes the hard part! Use while loops and the functions you've made to run the game!\n",
    "print('Welcome to Tic Tac Toe!')\n",
    "\n",
    "while True:\n",
    "    # Set the game up here\n",
    "    board = ['#','1','2','3','4','5','6','7','8','9']\n",
    "    mark = ['#',player_input()]\n",
    "    if mark[1] == \"X\":\n",
    "        mark.append(\"O\")\n",
    "    else:\n",
    "        mark.append(\"X\")\n",
    "    print(\"Player 1:\")\n",
    "    player = choose_first()\n",
    "    game_on = True\n",
    "    while game_on:\n",
    "        display_board(board)\n",
    "        while True:\n",
    "            pos = player_choice(board,player)\n",
    "            if space_check(board, pos):\n",
    "                place_marker(board, mark[player], pos)\n",
    "                break\n",
    "            else:\n",
    "                print(\"This position is already used.\")\n",
    "        if win_check(board, mark[player]):\n",
    "            display_board(board)\n",
    "            print(\"Congratulations player {}. You win!\".format(player))\n",
    "            game_on = False\n",
    "        if full_board_check(board):\n",
    "            game_on = False\n",
    "        player += 1\n",
    "        if player > 2:\n",
    "            player = 1\n",
    "    if not replay():\n",
    "        break"
   ]
  },
  {
   "cell_type": "code",
   "execution_count": null,
   "metadata": {},
   "outputs": [],
   "source": []
  }
 ],
 "metadata": {
  "kernelspec": {
   "display_name": "Python 3",
   "language": "python",
   "name": "python3"
  },
  "language_info": {
   "codemirror_mode": {
    "name": "ipython",
    "version": 3
   },
   "file_extension": ".py",
   "mimetype": "text/x-python",
   "name": "python",
   "nbconvert_exporter": "python",
   "pygments_lexer": "ipython3",
   "version": "3.6.5"
  }
 },
 "nbformat": 4,
 "nbformat_minor": 2
}
