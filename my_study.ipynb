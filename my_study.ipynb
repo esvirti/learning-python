{
 "cells": [
  {
   "cell_type": "markdown",
   "metadata": {},
   "source": [
    "<u><b>Jupter Notebook:</b></u> <br>\n",
    "-- c to copy a cell <br>\n",
    "-- v to paste <br>\n",
    "-- m to convert a cell in a text <br>\n",
    "-- .+tab to view a list of constants and methods for the class. Don't forget that you need to execute the code to inform the Jupter what type an assignment is. <br>\n",
    "-- cursor -> .|+shift+tab: read a help for the class. <br>\n",
    "-- cursor -> (|+shift+tab: read a help for the method. <br>"
   ]
  },
  {
   "cell_type": "markdown",
   "metadata": {},
   "source": [
    "<u><b>PYTHON:</b></u> <br>\n",
    "-- dynamic typing <br>\n",
    "-- polymorphism <br>\n",
    "-- multiple inheritance <br>\n",
    "-- does not support method overload <br>"
   ]
  },
  {
   "cell_type": "markdown",
   "metadata": {},
   "source": [
    "<u><b>Variable scope and lifetime:</b></u> <br>\n",
    "-- A global variable is visible for any modules that the main program imports <br>\n",
    "-- A variable declared inside an 'if' is still a global variable <br>\n",
    "-- Function parameters are passed by value and not by reference <br>\n",
    "-- Variables in uppercase are, by convention, constants that should not be modifyed. Python don't have a way to prevent modificaiton in contants. <br>\n",
    "-- Some modules declare contants. Importing the \"math\" module, for example, we can use \"math.pi\" contant. <br>\n",
    "-- LEGB Rule: local, enclosure, global and built-in."
   ]
  },
  {
   "cell_type": "code",
   "execution_count": null,
   "metadata": {},
   "outputs": [],
   "source": [
    "#VARIABLE SCOPE\n",
    "a = 'a'\n",
    "b = 'b'\n",
    "c = 'c'\n",
    "d = 'd'\n",
    "def my_function(b):\n",
    "    a = 'within'\n",
    "    b = 'within'\n",
    "    #Should be avoided. You can return the new value and assign to main variable in the main program.\n",
    "    global c\n",
    "    c = 'within'\n",
    "    d = 'within'\n",
    "    print(\"a inside: \"+a)\n",
    "    print(\"b inside: \"+b)\n",
    "    print(\"c inside: \"+c)\n",
    "    return d\n",
    "print(\"d: {}\".format(my_function(b)))\n",
    "print(\"a: \"+a)\n",
    "print(\"b: \"+b)\n",
    "print(\"c: \"+c)\n",
    "my_function(b)"
   ]
  },
  {
   "cell_type": "code",
   "execution_count": null,
   "metadata": {},
   "outputs": [],
   "source": [
    "#Deleting variables\n",
    "a = 100\n",
    "b = a\n",
    "print(a)\n",
    "del a\n",
    "try:\n",
    "    print(a)\n",
    "except:\n",
    "    print(\"Whoops: a\")\n",
    "try:\n",
    "    print(b)\n",
    "except:\n",
    "    print(\"Whoops: b\")"
   ]
  },
  {
   "cell_type": "markdown",
   "metadata": {},
   "source": [
    "----\n",
    "**Input:**"
   ]
  },
  {
   "cell_type": "code",
   "execution_count": null,
   "metadata": {},
   "outputs": [],
   "source": [
    "#Python3: my_str = input(\"Choose on symbol Y/N: \")\n",
    "my_str = raw_input(\"Choose on symbol Y/N: \")"
   ]
  },
  {
   "cell_type": "markdown",
   "metadata": {},
   "source": [
    "---\n",
    "**Data Types and Structures:** <br>\n",
    "Strings, lists, tuples and sets are **iterable**; <br>\n",
    "Strings and tuples are **immutable**; <br>\n",
    "Strings, lists and tuples elements can be accessed by **[0]** <br>\n",
    "Srings, tuples and sets can't accept **[0] assign** <br>\n",
    "Dictionaries and sets are **unordered**"
   ]
  },
  {
   "cell_type": "markdown",
   "metadata": {},
   "source": [
    "**Numbers:** integers or float"
   ]
  },
  {
   "cell_type": "code",
   "execution_count": 1,
   "metadata": {},
   "outputs": [
    {
     "name": "stdout",
     "output_type": "stream",
     "text": [
      "<class 'float'>\n"
     ]
    },
    {
     "data": {
      "text/plain": [
       "3.14"
      ]
     },
     "execution_count": 1,
     "metadata": {},
     "output_type": "execute_result"
    }
   ],
   "source": [
    "i = 2\n",
    "f = 0.5\n",
    "print(type(1/0.5))\n",
    "# % remainder of division\n",
    "# ** in a power of\n",
    "# ** 0.5: square root\n",
    "hex(10)\n",
    "bin(128)\n",
    "abs(-3)\n",
    "round(3.141592,2)"
   ]
  },
  {
   "cell_type": "markdown",
   "metadata": {},
   "source": [
    "**Strings:** like tuples, are immutable."
   ]
  },
  {
   "cell_type": "code",
   "execution_count": null,
   "metadata": {},
   "outputs": [],
   "source": [
    "my_str = 'test string'\n",
    "print(my_str.count('t'))\n",
    "print(my_str.find('s'))\n",
    "print(my_str.isnumeric(),my_str.isspace(),my_str.isalpha())\n",
    "#for char in my_str:\n",
    "#    print(char)\n",
    "print(my_str[0:3])\n",
    "print(my_str[::-1])\n",
    "print(len(my_str[::-1]))\n",
    "print(my_str.split('r'))\n",
    "print(my_str.upper())\n",
    "print(my_str.capitalize())\n",
    "print(my_str.title())\n",
    "#its can not be reassigned:\n",
    "#try:\n",
    "#    my_str[0] = 'a'\n",
    "#except TypeError:\n",
    "#    print(\"str object does not support item assignment\")\n",
    "#my_str = 'a'*10\n",
    "#print(my_str)\n"
   ]
  },
  {
   "cell_type": "markdown",
   "metadata": {},
   "source": [
    "**Lists:** ordered sequence of objects. Mutable."
   ]
  },
  {
   "cell_type": "code",
   "execution_count": null,
   "metadata": {},
   "outputs": [],
   "source": [
    "my_lst = ['s','t','r','i','n','g']\n",
    "for el in my_lst:\n",
    "    print(el)\n",
    "print(my_lst[0:3])\n",
    "print(my_lst[::-1])\n",
    "print(my_lst[-3:-2:-1])\n",
    "print(len(my_lst[::-1]))\n",
    "print(my_lst.pop())\n",
    "print(my_lst.append('k'))\n",
    "print(my_lst.sort())\n",
    "print(my_lst)\n",
    "my_lst.reverse()\n",
    "print(my_lst)\n",
    "my_list = ['a']*10\n",
    "print(my_list)"
   ]
  },
  {
   "cell_type": "code",
   "execution_count": null,
   "metadata": {},
   "outputs": [],
   "source": [
    "a = [1,2,3]\n",
    "b = [4,5,6]\n",
    "#a.append(b) #insert a sublist\n",
    "a.extend(b)\n",
    "print(a)"
   ]
  },
  {
   "cell_type": "markdown",
   "metadata": {},
   "source": [
    "**Tuple: ** ordered sequence of objects, but immutable <br>\n",
    "Its used to make sure that the data will not be modified\n",
    "\n"
   ]
  },
  {
   "cell_type": "code",
   "execution_count": null,
   "metadata": {},
   "outputs": [],
   "source": [
    "# Like strings, tuple can not be reassigned:\n",
    "my_tuple = (1,2,3,'a','d',3)\n",
    "print(my_tuple[4])\n",
    "print(my_tuple[::-1])\n",
    "print(my_tuple.count(3))\n",
    "print(my_tuple.index('d'))\n",
    "items=[(1,2),(3,4),(5,6)]\n",
    "for k,l in items:\n",
    "    print(k)\n",
    "    print(l)\n",
    "try:\n",
    "    my_tuple[0] = 'a'\n",
    "except TypeError:\n",
    "    print(\"Tuple cannot be reassign\")\n",
    "a = 1\n",
    "b = 2\n",
    "a,b = b,a+b\n",
    "# a == 2\n",
    "# b == 3"
   ]
  },
  {
   "cell_type": "markdown",
   "metadata": {},
   "source": [
    "**Dictionary: **\n",
    "unordered mapings for storing objects <br>\n",
    "Normal dictionaries cannot be ordered because are mappings not sequences (there is an ordereddictionaries too)"
   ]
  },
  {
   "cell_type": "code",
   "execution_count": null,
   "metadata": {},
   "outputs": [],
   "source": [
    "my_dict = {'msg':'I love you','name':'Naia','age':36}\n",
    "#print(my_dict['msg']+\" \"+my_dict['name']+\" despite your \"+str(my_dict['age'])+\" years old!\")\n",
    "#print(my_dict.keys())\n",
    "#print(my_dict.values())\n",
    "#print(my_dict.items()) #returns a tuple list\n",
    "print(\"tuple:\")\n",
    "for x in my_dict.items():\n",
    "    print(x)\n",
    "print(\"\\nkeys:\")\n",
    "for x in my_dict.keys():\n",
    "    print(x)\n",
    "print(\"\\nvalues:\")\n",
    "for x in my_dict.values():\n",
    "    print(x)"
   ]
  },
  {
   "cell_type": "markdown",
   "metadata": {},
   "source": [
    "**Sets: ** unordered collections of unique elements"
   ]
  },
  {
   "cell_type": "code",
   "execution_count": null,
   "metadata": {},
   "outputs": [],
   "source": [
    "my_set = set()\n",
    "my_set.add(1)\n",
    "my_set.add(1)\n",
    "my_set.add(2)\n",
    "print(my_set)\n",
    "my_list = [4, 4, 4, 4, 44, 3, 4, 1, 3, 3, 1, 1, 1, 1, 1]\n",
    "print(set(my_list))#Remember that sets dont have any particular order\n",
    "my_set.add(5)\n",
    "print(\"An arbitrary element: {}\".format(my_set.pop()))\n",
    "try:\n",
    "    my_set[0] = 1\n",
    "except TypeError:\n",
    "    print(\"set does not support item assign\")\n",
    "print(my_set)\n",
    "my_set.clear()\n",
    "print(my_set)\n",
    "s1 = {1,2,3}\n",
    "s2 = s1 #by reference\n",
    "s3 = s1.copy()\n",
    "s2.add(10)\n",
    "s3.add(20)\n",
    "print(\"s1: {}\".format(s1))\n",
    "print(\"s2: {}\".format(s2))\n",
    "print(\"s3: {}\".format(s3))\n",
    "print(s3.difference(s1))\n",
    "print(s3.intersection(s1))\n",
    "print(s3.isdisjoint(s1)) #False because there are elements in common\n",
    "print(s3.issubset(s1)) #False because not all s3 elements exists in s1\n",
    "print(s1.issuperset(s3)) #False because not all s3 elements exists in s1\n",
    "#s3.difference_update(s1)\n",
    "#s3.intersection_update(s1)\n",
    "#print(s3)\n",
    "#s2.discard(10)\n",
    "#print(s2)\n",
    "print(s1.union(s2))\n",
    "s1.update(s2)\n",
    "print(s1)"
   ]
  },
  {
   "cell_type": "markdown",
   "metadata": {},
   "source": [
    "**List Comprehensions:**"
   ]
  },
  {
   "cell_type": "code",
   "execution_count": null,
   "metadata": {},
   "outputs": [],
   "source": [
    "mystring = \"now we will go\"\n",
    "mylist = [x for x in mystring]\n",
    "print(mylist)\n",
    "mylist = [x*2 for x in range(2,17,2)]\n",
    "print(mylist)\n",
    "celcius = [0, 10, 20, 37, 100]\n",
    "fahrenheit = [ (x*9/5 + 32) for x in celcius]\n",
    "print(fahrenheit)"
   ]
  },
  {
   "cell_type": "code",
   "execution_count": null,
   "metadata": {},
   "outputs": [],
   "source": [
    "# Be aware that type of expression tends to create a ugly code with low maintainability\n",
    "mylist = [x*2 for x in range(2,17,2) if x%3 == 0]\n",
    "print(mylist)\n",
    "mylist = [x if x%2 == 0 else 'ODD' for x in range(1,10)]\n",
    "print(mylist)\n",
    "mylist = [x*y for x in [1, 2, 3] for y in [10, 100, 1000]]\n",
    "print(mylist)"
   ]
  },
  {
   "cell_type": "markdown",
   "metadata": {},
   "source": [
    "**Dictionary Comprehensions:**"
   ]
  },
  {
   "cell_type": "code",
   "execution_count": null,
   "metadata": {},
   "outputs": [],
   "source": [
    "my_d = {x:x**2 for x in range(10)}\n",
    "print(my_d)\n",
    "# Low use an hard to understand:\n",
    "my_d1 = {k:v**2 for k,v in zip(['a','b'],range(10))}\n",
    "my_d1\n",
    "for k,v in zip(['a','b'],range(10)):\n",
    "    print(k,v)"
   ]
  },
  {
   "cell_type": "markdown",
   "metadata": {},
   "source": [
    "**Useful Operations:**"
   ]
  },
  {
   "cell_type": "code",
   "execution_count": null,
   "metadata": {},
   "outputs": [],
   "source": [
    "print(range(5,11))\n",
    "print(list(range(5)))\n",
    "print(tuple(range(0,11,2)))\n",
    "print(set(range(3)))"
   ]
  },
  {
   "cell_type": "code",
   "execution_count": null,
   "metadata": {},
   "outputs": [],
   "source": [
    "mylst = list(range(10))\n",
    "mydict = {'name':'Gabi','age':2}\n",
    "print(10 in mylst)\n",
    "print('name' in mydict)\n",
    "print(2 in mydict.values())"
   ]
  },
  {
   "cell_type": "code",
   "execution_count": null,
   "metadata": {},
   "outputs": [],
   "source": [
    "mylst = list(range(5,11,2))\n",
    "print(min(mylst))\n",
    "print(max(mylst))\n",
    "print(len(mylst))"
   ]
  },
  {
   "cell_type": "code",
   "execution_count": null,
   "metadata": {},
   "outputs": [],
   "source": [
    "from random import shuffle,randint\n",
    "mylst = list(range(5,16,2))\n",
    "shuffle(mylst)\n",
    "print(mylst)\n",
    "print(randint(1,100))"
   ]
  },
  {
   "cell_type": "code",
   "execution_count": null,
   "metadata": {},
   "outputs": [],
   "source": [
    "mystr = 'this is my string'\n",
    "for index,letter in enumerate(mystr):\n",
    "    print(\"Index: {}, letter: {}\".format(index, letter))\n",
    "    "
   ]
  },
  {
   "cell_type": "code",
   "execution_count": null,
   "metadata": {},
   "outputs": [],
   "source": [
    "list1 = [1, 2, 3, 4, 5, 6, 7, 8, 9, 10]\n",
    "list2 = ['a', 'b', 'c']\n",
    "list3 = [1.0, 2.4, 4.2]\n",
    "for tp in zip(list1, list2, list3):\n",
    "    print(tp)\n",
    "print(list(zip(list1, list2, list3)))\n",
    "print(tuple(zip(list1, list2, list3)))\n",
    "print(set(zip(list1, list2, list3)))\n",
    "for k,v in zip(['a','b','c','d','e'],range(10)):\n",
    "    print(k,v)"
   ]
  },
  {
   "cell_type": "code",
   "execution_count": null,
   "metadata": {},
   "outputs": [],
   "source": [
    "# Difference between lists:\n",
    "a=['1','2','3','4','5']\n",
    "b=[7,6,5,4,3,2,1]\n",
    "list(set(b) - set(a))\n",
    "print(a)\n",
    "print(b)"
   ]
  },
  {
   "cell_type": "code",
   "execution_count": null,
   "metadata": {},
   "outputs": [],
   "source": [
    "# List intersection:\n",
    "sa = [6,2,1,4]\n",
    "sb = [3,4,5,6]\n",
    "myset = set(sb).intersection(set(sa))\n",
    "print(myset)"
   ]
  },
  {
   "cell_type": "code",
   "execution_count": null,
   "metadata": {},
   "outputs": [],
   "source": [
    "### Convert list of strings elements into a string\n",
    "\"\".join(a)"
   ]
  },
  {
   "cell_type": "code",
   "execution_count": null,
   "metadata": {},
   "outputs": [],
   "source": [
    "# Error and exceptions\n",
    "while True:\n",
    "    try:\n",
    "        my_int = int(input(\"Put a integer: \"))\n",
    "    except ValueError:\n",
    "        print(\"Oops, its not a string!\")\n",
    "        continue\n",
    "    except:\n",
    "        print(\"Unknown error\")\n",
    "    else:\n",
    "        print(\"Thanks!\")\n",
    "        break\n",
    "    finally:\n",
    "        print(\"This is interesting for close file handles.\")\n",
    "        "
   ]
  },
  {
   "cell_type": "markdown",
   "metadata": {},
   "source": [
    "---\n",
    "**__main__:**"
   ]
  },
  {
   "cell_type": "code",
   "execution_count": null,
   "metadata": {},
   "outputs": [],
   "source": [
    "if __name__ == '__main__':\n",
    "\tunittest.main()"
   ]
  },
  {
   "cell_type": "markdown",
   "metadata": {},
   "source": [
    "---\n",
    "**FILES IO:**"
   ]
  },
  {
   "cell_type": "code",
   "execution_count": null,
   "metadata": {},
   "outputs": [],
   "source": [
    "%%writefile myfile.txt\n",
    "Hello this is my file\n",
    "This is the second line\n",
    "This is the third line"
   ]
  },
  {
   "cell_type": "code",
   "execution_count": null,
   "metadata": {},
   "outputs": [],
   "source": [
    "my_file = open(\"myfile.txt\")"
   ]
  },
  {
   "cell_type": "code",
   "execution_count": null,
   "metadata": {},
   "outputs": [],
   "source": [
    "my_file.read()"
   ]
  },
  {
   "cell_type": "code",
   "execution_count": null,
   "metadata": {},
   "outputs": [],
   "source": [
    "my_file.seek(0)"
   ]
  },
  {
   "cell_type": "code",
   "execution_count": null,
   "metadata": {},
   "outputs": [],
   "source": [
    "my_file.seek(1)\n",
    "my_file.readlines()\n",
    "my_file.close()"
   ]
  },
  {
   "cell_type": "code",
   "execution_count": null,
   "metadata": {},
   "outputs": [],
   "source": [
    "#For dont worry about closing the file:\n",
    "with open(\"myfile.txt\") as my_file_var:\n",
    "    contents = my_file_var.read()\n",
    "print(contents)"
   ]
  },
  {
   "cell_type": "code",
   "execution_count": null,
   "metadata": {},
   "outputs": [],
   "source": [
    "with open(\"myfile.txt\",mode='r') as my_file_var:\n",
    "    contents = my_file_var.read()\n",
    "print(contents)\n",
    "'''\n",
    "'r'       read only (default)\n",
    "'r+'      read and writing\n",
    "'w'       write only, will overwite the file or create a new one\n",
    "'w+'      read and write, will overwite the file or create a new one\n",
    "'a'       appending only to the end of the file if it exists\n",
    "'x'       creates a new file and open it for writing\n",
    "'''\n",
    "with open(\"myfile.txt\",mode='a') as f:\n",
    "    f.write(\"\\nThis is the fourth line\")\n",
    "with open(\"myfile.txt\",mode='r') as f:\n",
    "    contents = f.read()\n",
    "print('---')\n",
    "print(contents)"
   ]
  },
  {
   "cell_type": "markdown",
   "metadata": {},
   "source": [
    "---\n",
    "**Function:** <br>\n",
    "-- The arguments are passed by value"
   ]
  },
  {
   "cell_type": "code",
   "execution_count": null,
   "metadata": {},
   "outputs": [],
   "source": [
    "# *args returns back a tuple with all the parameters: you can pass any arguments as you want.\n",
    "# By convention, the developers use \"args\", but can be another name\n",
    "def myfunc(*args):\n",
    "    print(args)\n",
    "    return(sum(args))\n",
    "myfunc(5,5,10,100)"
   ]
  },
  {
   "cell_type": "code",
   "execution_count": null,
   "metadata": {},
   "outputs": [],
   "source": [
    "# *kwargs returns back a dictionary\n",
    "# by convention, the developers use \"kwargs\" with the name of argument.\n",
    "def myfunc(**kwargs):\n",
    "    print(\"My prefered fruit is {}. My name is {}\".format(kwargs['fruit'],kwargs['name']))\n",
    "myfunc(name='emerson', fruit='apple', veggie = 'lectucce' )"
   ]
  },
  {
   "cell_type": "code",
   "execution_count": null,
   "metadata": {},
   "outputs": [],
   "source": [
    "def myfunc(*args,**kwargs):\n",
    "    print(\"This the result: {} and {}\".format(args[0],kwargs['name']))\n",
    "myfunc(10,20,30,name='emerson', fruit='apple')"
   ]
  },
  {
   "cell_type": "markdown",
   "metadata": {},
   "source": [
    "---\n",
    "**Lambda, maps and filters:** <br>"
   ]
  },
  {
   "cell_type": "code",
   "execution_count": 1,
   "metadata": {},
   "outputs": [
    {
     "name": "stdout",
     "output_type": "stream",
     "text": [
      "1\n",
      "4\n",
      "9\n",
      "16\n",
      "25\n",
      "[1, 4, 9, 16, 25]\n"
     ]
    }
   ],
   "source": [
    "def square(x):\n",
    "    return x**2\n",
    "mylist = [1,2,3,4,5]\n",
    "for item in map(square,mylist):\n",
    "    print(item)\n",
    "print(list(map(square,mylist)))"
   ]
  },
  {
   "cell_type": "code",
   "execution_count": 5,
   "metadata": {},
   "outputs": [
    {
     "name": "stdout",
     "output_type": "stream",
     "text": [
      "[0, 1, 2, 3, 4, 5, 6, 7, 8, 9, 10]\n",
      "0\n",
      "2\n",
      "4\n",
      "6\n",
      "8\n",
      "10\n",
      "[0, 2, 4, 6, 8, 10]\n"
     ]
    }
   ],
   "source": [
    "def check_even(x):\n",
    "    return x%2 == 0\n",
    "mylist = list(range(11))\n",
    "print(mylist)\n",
    "for n in filter(check_even,mylist):\n",
    "    print(n)\n",
    "mylist1 = list(filter(check_even,mylist))\n",
    "print(mylist1)"
   ]
  },
  {
   "cell_type": "code",
   "execution_count": 6,
   "metadata": {},
   "outputs": [
    {
     "name": "stdout",
     "output_type": "stream",
     "text": [
      "[0, 1, 4, 9, 16, 25, 36, 49, 64, 81, 100]\n",
      "[0, 2, 4, 6, 8, 10]\n"
     ]
    }
   ],
   "source": [
    "mylist1 = list(map(lambda x:x**2,mylist))\n",
    "print(mylist1)\n",
    "mylist2 = list(filter(lambda x:x%2==0,mylist))\n",
    "print(mylist2)"
   ]
  },
  {
   "cell_type": "markdown",
   "metadata": {},
   "source": [
    "---\n",
    "**Errors and Exception Handling:** <br>"
   ]
  },
  {
   "cell_type": "code",
   "execution_count": 8,
   "metadata": {},
   "outputs": [
    {
     "name": "stdout",
     "output_type": "stream",
     "text": [
      "OK, it works well\n",
      "This is allways executed\n"
     ]
    }
   ],
   "source": [
    "try:\n",
    "    # open file stream\n",
    "    file = open(\"mytest\", \"w\")\n",
    "    #a = 1/0\n",
    "except IOError:\n",
    "    print(\"There was an error writing to {}\".format(file_name))\n",
    "    sys.exit()\n",
    "except ZeroDivisionError:\n",
    "    print(\"Division by zero\")\n",
    "except:\n",
    "    print(\"Unknown error\")\n",
    "else:\n",
    "    print(\"OK, it works well\")\n",
    "finally:\n",
    "    print(\"This is allways executed\")"
   ]
  },
  {
   "cell_type": "markdown",
   "metadata": {},
   "source": [
    "---\n",
    "**Pylint and Unittest:** <br>"
   ]
  },
  {
   "cell_type": "code",
   "execution_count": null,
   "metadata": {},
   "outputs": [],
   "source": [
    "#Pylint: test your code and reports back possible errors and styling (PEP 8).\n",
    "\n",
    "#Unitest: operates in the class: you need to use an external editor\n",
    "import unittest\n",
    "#import mymodule\n",
    "class Test_mymodule(unittest.TestCase):\n",
    "    def my_first_test():\n",
    "        text = 'python'\n",
    "        #result = mymodule.cap(text)\n",
    "        result = \"Python\"\n",
    "        self.assertEqual(result,\"Python\")\n",
    "unittest.main()"
   ]
  },
  {
   "cell_type": "markdown",
   "metadata": {},
   "source": [
    "---\n",
    "**Decorators:** <br>\n",
    "-- Allow you to tack on extra functionality to an already existing code <br>\n",
    "-- It's on/off switch <br>\n",
    "-- It's usefull for frameworks <br>\n"
   ]
  },
  {
   "cell_type": "code",
   "execution_count": 10,
   "metadata": {},
   "outputs": [
    {
     "name": "stdout",
     "output_type": "stream",
     "text": [
      "New code before the original\n",
      "Original Code\n",
      "New code after the original\n"
     ]
    }
   ],
   "source": [
    "def my_print():\n",
    "    print(\"Original Code\")\n",
    "def new_decorator(original_func):\n",
    "    def wrap_func():\n",
    "        print(\"New code before the original\")\n",
    "        original_func()\n",
    "        print(\"New code after the original\")\n",
    "    return wrap_func\n",
    "funcion_pos = new_decorator(my_print)\n",
    "funcion_pos()"
   ]
  },
  {
   "cell_type": "code",
   "execution_count": 11,
   "metadata": {},
   "outputs": [
    {
     "name": "stdout",
     "output_type": "stream",
     "text": [
      "New code before the original\n",
      "My print\n",
      "New code after the original\n"
     ]
    }
   ],
   "source": [
    "@new_decorator\n",
    "def my_func():\n",
    "    print(\"My print\")\n",
    "\n",
    "my_func()"
   ]
  },
  {
   "cell_type": "markdown",
   "metadata": {},
   "source": [
    "---\n",
    "**Generators:** <br>\n",
    "-- Generator functions will automatically suspend and resume their execution and state around the last point of the value generation <br>\n",
    "-- One example is the built-in function range()"
   ]
  },
  {
   "cell_type": "code",
   "execution_count": 12,
   "metadata": {},
   "outputs": [],
   "source": [
    "def create_cubes(n):\n",
    "    result = []\n",
    "    for x in range(n):\n",
    "        result.append(x**3)\n",
    "    return result"
   ]
  },
  {
   "cell_type": "code",
   "execution_count": null,
   "metadata": {},
   "outputs": [],
   "source": [
    "print(create_cubes(5))\n",
    "for x in create_cubes(10):\n",
    "    print(x)"
   ]
  },
  {
   "cell_type": "code",
   "execution_count": null,
   "metadata": {},
   "outputs": [],
   "source": [
    "def create_cubes_gen(n):\n",
    "    for x in range(n):\n",
    "        yield x**3"
   ]
  },
  {
   "cell_type": "code",
   "execution_count": null,
   "metadata": {},
   "outputs": [],
   "source": [
    "# The system don't need to store the entire list in memory\n",
    "for x in create_cubes_gen(10):\n",
    "    print(x)\n",
    "list(create_cubes_gen(10))"
   ]
  },
  {
   "cell_type": "code",
   "execution_count": null,
   "metadata": {},
   "outputs": [],
   "source": [
    "def gen_fibon(n):\n",
    "    a = 1\n",
    "    b = 1\n",
    "    result = []\n",
    "    for x in range(1,n+1):\n",
    "        result.append(a)\n",
    "        aux = b\n",
    "        b = a+b\n",
    "        a = aux\n",
    "    return result"
   ]
  },
  {
   "cell_type": "code",
   "execution_count": null,
   "metadata": {},
   "outputs": [],
   "source": [
    "def gen_fibon_gen(n):\n",
    "    a = 1\n",
    "    b = 1\n",
    "    for x in range(1,n+1):\n",
    "        yield a\n",
    "        a,b = b,a+b"
   ]
  },
  {
   "cell_type": "code",
   "execution_count": null,
   "metadata": {},
   "outputs": [],
   "source": [
    "list(gen_fibon_gen(10))"
   ]
  },
  {
   "cell_type": "markdown",
   "metadata": {},
   "source": [
    "---\n",
    "**NEXT:**"
   ]
  },
  {
   "cell_type": "code",
   "execution_count": 24,
   "metadata": {},
   "outputs": [
    {
     "data": {
      "text/plain": [
       "<generator object my_gen at 0x7fa63c0e8f48>"
      ]
     },
     "execution_count": 24,
     "metadata": {},
     "output_type": "execute_result"
    }
   ],
   "source": [
    "def my_gen():\n",
    "    for x in range(3):\n",
    "        yield x\n",
    "my_gen()"
   ]
  },
  {
   "cell_type": "code",
   "execution_count": 26,
   "metadata": {},
   "outputs": [
    {
     "data": {
      "text/plain": [
       "0"
      ]
     },
     "execution_count": 26,
     "metadata": {},
     "output_type": "execute_result"
    }
   ],
   "source": [
    "fix_my_gen = my_gen()\n",
    "next(fix_my_gen)"
   ]
  },
  {
   "cell_type": "code",
   "execution_count": 29,
   "metadata": {},
   "outputs": [
    {
     "ename": "StopIteration",
     "evalue": "",
     "output_type": "error",
     "traceback": [
      "\u001b[0;31m---------------------------------------------------------------------------\u001b[0m",
      "\u001b[0;31mStopIteration\u001b[0m                             Traceback (most recent call last)",
      "\u001b[0;32m<ipython-input-29-f5ba84422591>\u001b[0m in \u001b[0;36m<module>\u001b[0;34m()\u001b[0m\n\u001b[0;32m----> 1\u001b[0;31m \u001b[0mnext\u001b[0m\u001b[0;34m(\u001b[0m\u001b[0mfix_my_gen\u001b[0m\u001b[0;34m)\u001b[0m\u001b[0;34m\u001b[0m\u001b[0m\n\u001b[0m",
      "\u001b[0;31mStopIteration\u001b[0m: "
     ]
    }
   ],
   "source": [
    "next(fix_my_gen)"
   ]
  },
  {
   "cell_type": "markdown",
   "metadata": {},
   "source": [
    "---\n",
    "**ITER:** <br>\n",
    "It becames a generator an iterable element"
   ]
  },
  {
   "cell_type": "code",
   "execution_count": null,
   "metadata": {},
   "outputs": [],
   "source": [
    "a = range(3)"
   ]
  },
  {
   "cell_type": "code",
   "execution_count": null,
   "metadata": {},
   "outputs": [],
   "source": [
    "my_iter = iter(a)\n",
    "next(my_iter)"
   ]
  },
  {
   "cell_type": "code",
   "execution_count": null,
   "metadata": {},
   "outputs": [],
   "source": [
    "next(my_iter)"
   ]
  },
  {
   "cell_type": "code",
   "execution_count": null,
   "metadata": {},
   "outputs": [],
   "source": [
    "#List Comprehension x Generator Comprehension:\n",
    "first_list = [1,2,3,4,5]\n",
    "list_compr = [item for item in first_list if item >= 3]\n",
    "print(list_compr)\n",
    "print(type(list_compr))\n",
    "\n",
    "gen_compr = (item for item in first_list if item >= 3)\n",
    "print(next(gen_compr))\n",
    "print(type(gen_compr))"
   ]
  },
  {
   "cell_type": "code",
   "execution_count": null,
   "metadata": {},
   "outputs": [],
   "source": [
    "next(gen_compr)"
   ]
  },
  {
   "cell_type": "markdown",
   "metadata": {},
   "source": [
    "---\n",
    "**ADVANCED MODULES:** <br>\n",
    "-- Colections Module: Counter, DefaultDict, OrderedDict and NamedTuple <br>\n",
    "-- DateTime <br>\n",
    "-- Python Debugger: pdb <br>\n",
    "-- Time your coce: timeit <br>\n",
    "-- Regular Expressions: re <br>\n",
    "-- StringIO"
   ]
  },
  {
   "cell_type": "markdown",
   "metadata": {},
   "source": [
    "**Counter:** <br>"
   ]
  },
  {
   "cell_type": "code",
   "execution_count": null,
   "metadata": {},
   "outputs": [],
   "source": [
    "from collections import Counter\n",
    "a = [1,2,3,2,1,2,2,2,1,2,2,4,5,56,6,7,78]\n",
    "print(Counter(a))\n",
    "my_str = \"This is the test string. I already use this for this and the others examples\"\n",
    "words = my_str.split()\n",
    "print(Counter(words))"
   ]
  },
  {
   "cell_type": "markdown",
   "metadata": {},
   "source": [
    "**DefaultDict:** <br>"
   ]
  },
  {
   "cell_type": "code",
   "execution_count": null,
   "metadata": {},
   "outputs": [],
   "source": [
    "from collections import defaultdict\n",
    "my_dict = {}\n",
    "try:\n",
    "    my_dict['one']\n",
    "except KeyError:\n",
    "    print(\"Whoops, we have a problem with the key\")\n",
    "my_dict = defaultdict(object)\n",
    "my_dict['one']\n",
    "print(my_dict)"
   ]
  },
  {
   "cell_type": "code",
   "execution_count": null,
   "metadata": {},
   "outputs": [],
   "source": [
    "my_dict = defaultdict(int)\n",
    "my_dict['one']\n",
    "print(my_dict)"
   ]
  },
  {
   "cell_type": "code",
   "execution_count": null,
   "metadata": {},
   "outputs": [],
   "source": [
    "my_dict = defaultdict(lambda: 'empty')\n",
    "my_dict['one'] = \"hello\"\n",
    "my_dict['name'] = \"John\"\n",
    "my_dict['age'] = 32\n",
    "my_dict['two']\n",
    "my_dict['three']\n",
    "my_dict"
   ]
  },
  {
   "cell_type": "markdown",
   "metadata": {},
   "source": [
    "**OrderedDict:** <br>"
   ]
  },
  {
   "cell_type": "code",
   "execution_count": null,
   "metadata": {},
   "outputs": [],
   "source": [
    "from collections import OrderedDict\n",
    "# Python 3.6+ is preserving the insert order. \n",
    "# But you need to use ordereddict to for avoid mistakes when your program runs in other python version.\n",
    "n_d = {}\n",
    "n_d['a'] = 1\n",
    "n_d['c'] = 3\n",
    "n_d['d'] = 4\n",
    "n_d['f'] = 7\n",
    "n_d['e'] = 6\n",
    "n_d['b'] = 2"
   ]
  },
  {
   "cell_type": "code",
   "execution_count": null,
   "metadata": {},
   "outputs": [],
   "source": [
    "for k,v in n_d.items():\n",
    "    print(k,v)"
   ]
  },
  {
   "cell_type": "code",
   "execution_count": null,
   "metadata": {},
   "outputs": [],
   "source": [
    "o_d = OrderedDict()\n",
    "o_d['a'] = 1\n",
    "o_d['c'] = 3\n",
    "o_d['d'] = 4\n",
    "o_d['f'] = 7\n",
    "o_d['e'] = 6\n",
    "o_d['b'] = 2"
   ]
  },
  {
   "cell_type": "code",
   "execution_count": null,
   "metadata": {},
   "outputs": [],
   "source": [
    "for k,v in o_d.items():\n",
    "    print(k,v)"
   ]
  },
  {
   "cell_type": "code",
   "execution_count": null,
   "metadata": {},
   "outputs": [],
   "source": [
    "d1 = {}\n",
    "d1['a'] = 1\n",
    "d1['b'] = 2\n",
    "\n",
    "d2 = {}\n",
    "d2['b'] = 2\n",
    "d2['a'] = 1\n",
    "\n",
    "if d1 == d2:\n",
    "    print(\"Is equal. The order does not matter\")\n",
    "else:\n",
    "    print(\"Is not equal\")"
   ]
  },
  {
   "cell_type": "code",
   "execution_count": null,
   "metadata": {},
   "outputs": [],
   "source": [
    "d1 = OrderedDict()\n",
    "d1['a'] = 1\n",
    "d1['b'] = 2\n",
    "\n",
    "d2 = OrderedDict()\n",
    "d2['b'] = 2\n",
    "d2['a'] = 1\n",
    "\n",
    "if d1 == d2:\n",
    "    print(\"is equal\")\n",
    "else:\n",
    "    print(\"Is not equal. The order matters\")"
   ]
  },
  {
   "cell_type": "markdown",
   "metadata": {},
   "source": [
    "**NamedTuple:** <br>"
   ]
  },
  {
   "cell_type": "code",
   "execution_count": 13,
   "metadata": {},
   "outputs": [],
   "source": [
    "from collections import namedtuple\n",
    "Dog = namedtuple('Dog','name age breed')"
   ]
  },
  {
   "cell_type": "code",
   "execution_count": null,
   "metadata": {},
   "outputs": [],
   "source": [
    "dog = Dog(name='Sammy', breed='Lab', age='6')"
   ]
  },
  {
   "cell_type": "code",
   "execution_count": null,
   "metadata": {},
   "outputs": [],
   "source": [
    "print(dog.age)\n",
    "print(dog.name)\n",
    "print(dog.breed)\n",
    "print(dog.count('6'))\n",
    "print(dog.index('6'))\n",
    "print(dog[0])\n",
    "print(dog[1])\n",
    "print(dog[2])"
   ]
  },
  {
   "cell_type": "markdown",
   "metadata": {},
   "source": [
    "**DateTime:** <br>"
   ]
  },
  {
   "cell_type": "code",
   "execution_count": 14,
   "metadata": {},
   "outputs": [
    {
     "name": "stdout",
     "output_type": "stream",
     "text": [
      "time.struct_time(tm_year=2018, tm_mon=8, tm_mday=6, tm_hour=17, tm_min=39, tm_sec=2, tm_wday=0, tm_yday=218, tm_isdst=-1)\n",
      "17\n",
      "2018-08-06 17:39:02.637140\n"
     ]
    }
   ],
   "source": [
    "import datetime\n",
    "now = datetime.datetime.today()\n",
    "print(now.timetuple())\n",
    "print(now.hour)\n",
    "print(now.now())"
   ]
  },
  {
   "cell_type": "markdown",
   "metadata": {},
   "source": [
    "**Timeit:** <br>"
   ]
  },
  {
   "cell_type": "code",
   "execution_count": 17,
   "metadata": {},
   "outputs": [
    {
     "data": {
      "text/plain": [
       "0.25307564799732063"
      ]
     },
     "execution_count": 17,
     "metadata": {},
     "output_type": "execute_result"
    }
   ],
   "source": [
    "import timeit\n",
    "timeit.timeit('\"-\".join(str(x) for x in range(100))',number=10000)"
   ]
  },
  {
   "cell_type": "code",
   "execution_count": 16,
   "metadata": {},
   "outputs": [],
   "source": [
    "timeit.timeit('\"-\".join([str(x) for x in range(100)])',number=10000)"
   ]
  },
  {
   "cell_type": "code",
   "execution_count": 18,
   "metadata": {},
   "outputs": [],
   "source": [
    "timeit.timeit('\"-\".join(list(map(lambda x:str(x),range(10))))', number=10000)"
   ]
  },
  {
   "cell_type": "code",
   "execution_count": 19,
   "metadata": {},
   "outputs": [
    {
     "data": {
      "text/plain": [
       "0.03700536399992416"
      ]
     },
     "execution_count": 19,
     "metadata": {},
     "output_type": "execute_result"
    }
   ],
   "source": [
    "timeit.timeit('\"-\".join(map(lambda x:str(x),range(10)))', number=10000)"
   ]
  },
  {
   "cell_type": "markdown",
   "metadata": {},
   "source": [
    "**Regular Expressions:** <br>"
   ]
  },
  {
   "cell_type": "code",
   "execution_count": 24,
   "metadata": {},
   "outputs": [],
   "source": [
    "import re\n",
    "patterns = ['term1', 'term2']\n",
    "text = 'This is a string with term1, but it does not have the other term.'\n",
    "\n",
    "for pattern in patterns:\n",
    "    print('Searching for \"%s\" in:\\n \"%s\"\\n' %(pattern,text))\n",
    "    if re.search(pattern,text):\n",
    "        print('Match was found. \\n')\n",
    "    else:\n",
    "        print('No Match was found.\\n')\n",
    "        "
   ]
  },
  {
   "cell_type": "code",
   "execution_count": 43,
   "metadata": {},
   "outputs": [
    {
     "data": {
      "text/plain": [
       "['What is the domain name of someone with the email hello',\n",
       " 'gmail.com and 22 years old']"
      ]
     },
     "execution_count": 43,
     "metadata": {},
     "output_type": "execute_result"
    }
   ],
   "source": [
    "# Term to split on\n",
    "split_term = '@'\n",
    "phrase = 'What is the domain name of someone with the email hello@gmail.com and 22 years old'\n",
    "# Split the phrase\n",
    "re.split(split_term,phrase)"
   ]
  },
  {
   "cell_type": "code",
   "execution_count": 45,
   "metadata": {},
   "outputs": [
    {
     "data": {
      "text/plain": [
       "'is the domain name of someone with the email hello@gmail.com and 22 years old'"
      ]
     },
     "execution_count": 45,
     "metadata": {},
     "output_type": "execute_result"
    }
   ],
   "source": [
    "m = re.search(' (.*@.*)', phrase)\n",
    "m.group(1)"
   ]
  },
  {
   "cell_type": "code",
   "execution_count": 76,
   "metadata": {},
   "outputs": [],
   "source": [
    "phrase = 'What is the domain name of someone with the email: hello@gmail.com and 22 years old'\n",
    "m = re.search(r\"\"\"\n",
    " \\s # The beginer whitespace\n",
    " (?P<email>\\w+?@\\w+?)   # Group name\n",
    " \\s # The trailing whitespace\n",
    "\"\"\", phrase, re.VERBOSE)\n",
    "if m:\n",
    "    m.group('email')"
   ]
  },
  {
   "cell_type": "markdown",
   "metadata": {},
   "source": [
    "## Escape Codes\n",
    "<table border=\"1\" class=\"docutils\">\n",
    "<colgroup>\n",
    "<col width=\"14%\" />\n",
    "<col width=\"86%\" />\n",
    "</colgroup>\n",
    "<thead valign=\"bottom\">\n",
    "<tr class=\"row-odd\"><th class=\"head\">Code</th>\n",
    "<th class=\"head\">Meaning</th>\n",
    "</tr>\n",
    "</thead>\n",
    "<tbody valign=\"top\">\n",
    "<tr class=\"row-even\"><td><tt class=\"docutils literal\"><span class=\"pre\">\\d</span></tt></td>\n",
    "<td>a digit</td>\n",
    "</tr>\n",
    "<tr class=\"row-odd\"><td><tt class=\"docutils literal\"><span class=\"pre\">\\D</span></tt></td>\n",
    "<td>a non-digit</td>\n",
    "</tr>\n",
    "<tr class=\"row-even\"><td><tt class=\"docutils literal\"><span class=\"pre\">\\s</span></tt></td>\n",
    "<td>whitespace (tab, space, newline, etc.)</td>\n",
    "</tr>\n",
    "<tr class=\"row-odd\"><td><tt class=\"docutils literal\"><span class=\"pre\">\\S</span></tt></td>\n",
    "<td>non-whitespace</td>\n",
    "</tr>\n",
    "<tr class=\"row-even\"><td><tt class=\"docutils literal\"><span class=\"pre\">\\w</span></tt></td>\n",
    "<td>alphanumeric</td>\n",
    "</tr>\n",
    "<tr class=\"row-odd\"><td><tt class=\"docutils literal\"><span class=\"pre\">\\W</span></tt></td>\n",
    "<td>non-alphanumeric</td>\n",
    "</tr>\n",
    "</tbody>\n",
    "</table>"
   ]
  },
  {
   "cell_type": "markdown",
   "metadata": {},
   "source": [
    "**StringIO:** <br>\n",
    "-- In memory like file object"
   ]
  },
  {
   "cell_type": "code",
   "execution_count": 21,
   "metadata": {},
   "outputs": [],
   "source": [
    "try:\n",
    "    from StringIO import StringIO\n",
    "except ImportError:\n",
    "    from io import StringIO\n",
    "    "
   ]
  },
  {
   "cell_type": "code",
   "execution_count": 22,
   "metadata": {},
   "outputs": [
    {
     "data": {
      "text/plain": [
       "0"
      ]
     },
     "execution_count": 22,
     "metadata": {},
     "output_type": "execute_result"
    }
   ],
   "source": [
    "message = \"This is a normal text used only for test\"\n",
    "f = StringIO(message)\n",
    "f.read()\n",
    "f.write(\"The other text\")\n",
    "f.read()\n",
    "f.seek(0)"
   ]
  },
  {
   "cell_type": "markdown",
   "metadata": {},
   "source": [
    "---\n",
    "**GUI:** <br>\n",
    "-- I could not get this works in the Jupyter Notebook."
   ]
  },
  {
   "cell_type": "code",
   "execution_count": 1,
   "metadata": {},
   "outputs": [],
   "source": [
    "from __future__ import print_function\n",
    "from ipywidgets import interact, interactive, fixed, interact_manual\n",
    "import ipywidgets as widgets"
   ]
  },
  {
   "cell_type": "code",
   "execution_count": 23,
   "metadata": {},
   "outputs": [
    {
     "data": {
      "text/plain": [
       "10"
      ]
     },
     "metadata": {},
     "output_type": "display_data"
    },
    {
     "data": {
      "text/plain": [
       "<function __main__.f(x)>"
      ]
     },
     "execution_count": 23,
     "metadata": {},
     "output_type": "execute_result"
    }
   ],
   "source": [
    "def f(x):\n",
    "    return x\n",
    "interact(f, x=10)"
   ]
  },
  {
   "cell_type": "code",
   "execution_count": 4,
   "metadata": {},
   "outputs": [],
   "source": [
    "interact(func,x=\"Hello\")"
   ]
  },
  {
   "cell_type": "code",
   "execution_count": 7,
   "metadata": {},
   "outputs": [
    {
     "data": {
      "text/plain": [
       "(True, 1.1)"
      ]
     },
     "metadata": {},
     "output_type": "display_data"
    }
   ],
   "source": [
    "@interact(x=True,y=1.1)\n",
    "def g(x,y):\n",
    "    return (x,y)"
   ]
  },
  {
   "cell_type": "code",
   "execution_count": 11,
   "metadata": {},
   "outputs": [
    {
     "data": {
      "text/plain": [
       "'Hello'"
      ]
     },
     "metadata": {},
     "output_type": "display_data"
    }
   ],
   "source": [
    "def g(x,y):\n",
    "    return (x,y)\n",
    "teste=interact(func,x=\"Hello\")"
   ]
  },
  {
   "cell_type": "code",
   "execution_count": 12,
   "metadata": {},
   "outputs": [
    {
     "data": {
      "text/plain": [
       "function"
      ]
     },
     "execution_count": 12,
     "metadata": {},
     "output_type": "execute_result"
    }
   ],
   "source": [
    "type(teste)"
   ]
  },
  {
   "cell_type": "code",
   "execution_count": 5,
   "metadata": {},
   "outputs": [],
   "source": [
    "from IPython.display import display\n",
    "def f(a, b):\n",
    "    display(a + b)\n",
    "    return a+b"
   ]
  },
  {
   "cell_type": "code",
   "execution_count": 6,
   "metadata": {},
   "outputs": [],
   "source": [
    "w = interactive(f, a=10, b=20)"
   ]
  },
  {
   "cell_type": "code",
   "execution_count": 7,
   "metadata": {},
   "outputs": [
    {
     "data": {
      "text/plain": [
       "30"
      ]
     },
     "metadata": {},
     "output_type": "display_data"
    }
   ],
   "source": [
    "display(w)"
   ]
  },
  {
   "cell_type": "code",
   "execution_count": 8,
   "metadata": {},
   "outputs": [],
   "source": [
    "import ipywidgets as widgets"
   ]
  },
  {
   "cell_type": "code",
   "execution_count": 12,
   "metadata": {},
   "outputs": [
    {
     "data": {
      "application/vnd.jupyter.widget-view+json": {
       "model_id": "952a6b48f59e4ea3b68469bd209d7e1d",
       "version_major": 2,
       "version_minor": 0
      },
      "text/plain": [
       "IntSlider(value=0)"
      ]
     },
     "metadata": {},
     "output_type": "display_data"
    }
   ],
   "source": [
    "widgets.IntSlider()"
   ]
  },
  {
   "cell_type": "code",
   "execution_count": null,
   "metadata": {},
   "outputs": [],
   "source": []
  }
 ],
 "metadata": {
  "kernelspec": {
   "display_name": "Python 3",
   "language": "python",
   "name": "python3"
  },
  "language_info": {
   "codemirror_mode": {
    "name": "ipython",
    "version": 3
   },
   "file_extension": ".py",
   "mimetype": "text/x-python",
   "name": "python",
   "nbconvert_exporter": "python",
   "pygments_lexer": "ipython3",
   "version": "3.7.0"
  }
 },
 "nbformat": 4,
 "nbformat_minor": 2
}
