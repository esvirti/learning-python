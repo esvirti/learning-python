{
 "cells": [
  {
   "cell_type": "markdown",
   "metadata": {},
   "source": [
    "**Input:**"
   ]
  },
  {
   "cell_type": "code",
   "execution_count": null,
   "metadata": {},
   "outputs": [],
   "source": [
    "#Python3: my_str = input(\"Choose on symbol Y/N: \")\n",
    "my_str = raw_input(\"Choose on symbol Y/N: \")"
   ]
  },
  {
   "cell_type": "markdown",
   "metadata": {},
   "source": [
    "**Data Structures:** \n",
    "Strings, lists and tuples are iterable"
   ]
  },
  {
   "cell_type": "markdown",
   "metadata": {},
   "source": [
    "**Sets:**\n",
    "Unordered collections of unique elements;"
   ]
  },
  {
   "cell_type": "code",
   "execution_count": 70,
   "metadata": {},
   "outputs": [
    {
     "name": "stdout",
     "output_type": "stream",
     "text": [
      "t\n",
      "e\n",
      "s\n",
      "t\n",
      " \n",
      "s\n",
      "t\n",
      "r\n",
      "i\n",
      "n\n",
      "g\n",
      "tes\n",
      "gnirts tset\n",
      "11\n",
      "['test st', 'ing']\n",
      "TEST STRING\n",
      "Test string\n",
      "Test String\n"
     ]
    },
    {
     "ename": "TypeError",
     "evalue": "'str' object does not support item assignment",
     "output_type": "error",
     "traceback": [
      "\u001b[0;31m\u001b[0m",
      "\u001b[0;31mTypeError\u001b[0mTraceback (most recent call last)",
      "\u001b[0;32m<ipython-input-70-e4c02955a49c>\u001b[0m in \u001b[0;36m<module>\u001b[0;34m()\u001b[0m\n\u001b[1;32m     11\u001b[0m \u001b[0;32mprint\u001b[0m\u001b[0;34m(\u001b[0m\u001b[0mmy_str\u001b[0m\u001b[0;34m.\u001b[0m\u001b[0mtitle\u001b[0m\u001b[0;34m(\u001b[0m\u001b[0;34m)\u001b[0m\u001b[0;34m)\u001b[0m\u001b[0;34m\u001b[0m\u001b[0m\n\u001b[1;32m     12\u001b[0m \u001b[0;31m#its can not be reassigned:\u001b[0m\u001b[0;34m\u001b[0m\u001b[0;34m\u001b[0m\u001b[0m\n\u001b[0;32m---> 13\u001b[0;31m \u001b[0mmy_str\u001b[0m\u001b[0;34m[\u001b[0m\u001b[0;36m0\u001b[0m\u001b[0;34m]\u001b[0m \u001b[0;34m=\u001b[0m \u001b[0;34m'a'\u001b[0m\u001b[0;34m\u001b[0m\u001b[0m\n\u001b[0m",
      "\u001b[0;31mTypeError\u001b[0m: 'str' object does not support item assignment"
     ]
    }
   ],
   "source": [
    "#Strings:\n",
    "my_str = 'test string'\n",
    "for char in my_str:\n",
    "    print(char)\n",
    "print(my_str[0:3])\n",
    "print(my_str[::-1])\n",
    "print(len(my_str[::-1]))\n",
    "print(my_str.split('r'))\n",
    "print(my_str.upper())\n",
    "print(my_str.capitalize())\n",
    "print(my_str.title())\n",
    "#its can not be reassigned:\n",
    "#my_str[0] = 'a'"
   ]
  },
  {
   "cell_type": "code",
   "execution_count": 55,
   "metadata": {},
   "outputs": [
    {
     "name": "stdout",
     "output_type": "stream",
     "text": [
      "s\n",
      "t\n",
      "r\n",
      "i\n",
      "n\n",
      "g\n",
      "['s', 't', 'r']\n",
      "['g', 'n', 'i', 'r', 't', 's']\n",
      "[]\n",
      "6\n",
      "g\n",
      "None\n",
      "['i', 'k', 'n', 'r', 's', 't']\n",
      "['t', 's', 'r', 'n', 'k', 'i']\n"
     ]
    }
   ],
   "source": [
    "#lists:\n",
    "my_lst = ['s','t','r','i','n','g']\n",
    "for el in my_lst:\n",
    "    print(el)\n",
    "print(my_lst[0:3])\n",
    "print(my_lst[::-1])\n",
    "print(my_lst[-3:-2:-1])\n",
    "print(len(my_str[::-1]))\n",
    "print(my_lst.pop())\n",
    "print(my_lst.append('k'))\n",
    "my_lst.sort()\n",
    "print(my_lst)\n",
    "my_lst.reverse()\n",
    "print(my_lst)"
   ]
  },
  {
   "cell_type": "code",
   "execution_count": 69,
   "metadata": {},
   "outputs": [
    {
     "name": "stdout",
     "output_type": "stream",
     "text": [
      "I love you Naia despite your 36 years old!\n",
      "['msg', 'age', 'name']\n",
      "['I love you', 36, 'Naia']\n",
      "[('msg', 'I love you'), ('age', 36), ('name', 'Naia')]\n"
     ]
    }
   ],
   "source": [
    "#Dictionary: unordered mapings for storing objects\n",
    "my_dict = {'msg':'I love you','name':'Naia','age':36}\n",
    "print(my_dict['msg']+\" \"+my_dict['name']+\" despite your \"+str(my_dict['age'])+\" years old!\")\n",
    "print(my_dict.keys())\n",
    "print(my_dict.values())\n",
    "print(my_dict.items()) #returns a tuple list"
   ]
  },
  {
   "cell_type": "code",
   "execution_count": 85,
   "metadata": {},
   "outputs": [],
   "source": [
    "#Tuple unpacking: are similar to lists, but are immutable.\n",
    "my_tuple = (1,2,3,'a','d',3)\n",
    "print(my_tuple[4])\n",
    "print(my_tuple[::-1])\n",
    "print(my_tuple.count(3))\n",
    "print(my_tuple.index('d'))\n",
    "items=[(1,2),(3,4),(5,6)]\n",
    "for k,l in items:\n",
    "    print(k)\n",
    "    print(l)\n",
    "#its can not be reassigned:\n",
    "#tuples its used to make sure that the data will not be modified\n",
    "#my_tuple[0] = 'a'"
   ]
  },
  {
   "cell_type": "code",
   "execution_count": 85,
   "metadata": {},
   "outputs": [
    {
     "name": "stdout",
     "output_type": "stream",
     "text": [
      "d\n",
      "(3, 'd', 'a', 3, 2, 1)\n",
      "2\n",
      "4\n",
      "1\n",
      "2\n",
      "3\n",
      "4\n",
      "5\n",
      "6\n"
     ]
    }
   ],
   "source": [
    "#Sets are unordered collections of unique elements\n"
   ]
  },
  {
   "cell_type": "markdown",
   "metadata": {},
   "source": [
    "**Data Structures Operations:**"
   ]
  },
  {
   "cell_type": "code",
   "execution_count": 20,
   "metadata": {},
   "outputs": [],
   "source": [
    "a=['1','2','3','4','5']\n",
    "b=[7,6,5,4,3,2,1]"
   ]
  },
  {
   "cell_type": "code",
   "execution_count": null,
   "metadata": {},
   "outputs": [],
   "source": [
    "### Difference between lists:\n",
    "list(set(b) - set(a))"
   ]
  },
  {
   "cell_type": "code",
   "execution_count": null,
   "metadata": {},
   "outputs": [],
   "source": [
    "### List intersection:\n",
    "set(b).intersection(a)"
   ]
  },
  {
   "cell_type": "code",
   "execution_count": 24,
   "metadata": {},
   "outputs": [
    {
     "data": {
      "text/plain": [
       "'12345'"
      ]
     },
     "execution_count": 24,
     "metadata": {},
     "output_type": "execute_result"
    }
   ],
   "source": [
    "### Convert list of strings elements into a string\n",
    "\"\".join(a)"
   ]
  },
  {
   "cell_type": "code",
   "execution_count": null,
   "metadata": {},
   "outputs": [],
   "source": [
    "# Error and exceptions\n",
    "while True:\n",
    "    try:\n",
    "        my_int = int(raw_input(\"Put a integer: \"))\n",
    "    except:\n",
    "        print(\"Oops, its not a string!\")\n",
    "        continue\n",
    "    else:\n",
    "        print(\"Thanks!\")\n",
    "        break\n",
    "    finally:\n",
    "        print(\"This is interesting for close file handles.\")"
   ]
  },
  {
   "cell_type": "code",
   "execution_count": null,
   "metadata": {},
   "outputs": [],
   "source": []
  }
 ],
 "metadata": {
  "kernelspec": {
   "display_name": "Python 2",
   "language": "python",
   "name": "python2"
  },
  "language_info": {
   "codemirror_mode": {
    "name": "ipython",
    "version": 2
   },
   "file_extension": ".py",
   "mimetype": "text/x-python",
   "name": "python",
   "nbconvert_exporter": "python",
   "pygments_lexer": "ipython2",
   "version": "2.7.15"
  }
 },
 "nbformat": 4,
 "nbformat_minor": 2
}
