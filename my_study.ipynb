{
 "cells": [
  {
   "cell_type": "markdown",
   "metadata": {},
   "source": [
    "<u><b>Jupter Notebook:</b></u> <br>\n",
    "-- c to copy a cell <br>\n",
    "-- v to paste <br>\n",
    "-- m to convert a cell in a text <br>\n",
    "-- .+tab to view a list of constants and methods for the class. Don't forget that you need to execute the code to inform the Jupter what type an assignment is. <br>\n",
    "-- cursor -> .|+shift+tab: read a help for the class. <br>\n",
    "-- cursor -> (|+shift+tab: read a help for the method. <br>"
   ]
  },
  {
   "cell_type": "markdown",
   "metadata": {},
   "source": [
    "<u><b>PYTHON:</b></u> <br>\n",
    "-- dynamic typing <br>\n",
    "-- polymorphism <br>\n",
    "-- multiple inheritance <br>\n",
    "-- does not support method overload <br>"
   ]
  },
  {
   "cell_type": "markdown",
   "metadata": {},
   "source": [
    "<u><b>Variable scope and lifetime:</b></u> <br>\n",
    "-- A global variable is visible for any modyles that the main program imports <br>\n",
    "-- A variable declared inside an 'if' is still a global variable <br>\n",
    "-- Function parameters are passed by value and not by reference <br>\n",
    "-- Variables in uppercase are, by convention, constants that should not be modifyed. Python don't have a way to prevent modificaiton in contants <br>\n",
    "-- some modules declared contants. Importing the \"math\" module, for example, we can use \"math.pi\" contant.\n",
    "-- LEGB Rule: local, enclosure, global and built-in."
   ]
  },
  {
   "cell_type": "code",
   "execution_count": null,
   "metadata": {},
   "outputs": [],
   "source": [
    "a = 'a'\n",
    "b = 'b'\n",
    "c = 'c'\n",
    "def my_function(b):\n",
    "    a = 'within'\n",
    "    b = 'within'\n",
    "    #Should be avoided. You can return the new value and assign to main variable in the main program.\n",
    "    global c\n",
    "    c = 'within'\n",
    "    d = 'within'\n",
    "    print(\"a inside: \"+a)\n",
    "    print(\"b inside: \"+b)\n",
    "    print(\"c inside: \"+c)\n",
    "    return d\n",
    "print(\"d: {}\".format(my_function(b)))\n",
    "print(\"a: \"+a)\n",
    "print(\"b: \"+b)\n",
    "print(\"c: \"+c)"
   ]
  },
  {
   "cell_type": "code",
   "execution_count": 100,
   "metadata": {},
   "outputs": [
    {
     "name": "stdout",
     "output_type": "stream",
     "text": [
      "100\n",
      "Whoops a\n",
      "100\n"
     ]
    }
   ],
   "source": [
    "#Deleting variables\n",
    "a = 100\n",
    "b = a\n",
    "print(a)\n",
    "del a\n",
    "try:\n",
    "    print(a)\n",
    "except:\n",
    "    print(\"Whoops: a\")\n",
    "try:\n",
    "    print(b)\n",
    "except:\n",
    "    print(\"Whoops: b\")"
   ]
  },
  {
   "cell_type": "markdown",
   "metadata": {},
   "source": [
    "----\n",
    "**Input:**"
   ]
  },
  {
   "cell_type": "code",
   "execution_count": null,
   "metadata": {},
   "outputs": [],
   "source": [
    "#Python3: my_str = input(\"Choose on symbol Y/N: \")\n",
    "my_str = raw_input(\"Choose on symbol Y/N: \")"
   ]
  },
  {
   "cell_type": "markdown",
   "metadata": {},
   "source": [
    "---\n",
    "**Data Types and Structures:** <br>\n",
    "Strings, lists, tuples and sets are **iterable**; <br>\n",
    "Strings and tuples are **immutable**; <br>\n",
    "Strings, lists and tuples elements can be accessed by **[0]** <br>\n",
    "Dictionaries and sets are **unordered**"
   ]
  },
  {
   "cell_type": "markdown",
   "metadata": {},
   "source": [
    "**Numbers:** integers or float"
   ]
  },
  {
   "cell_type": "code",
   "execution_count": null,
   "metadata": {},
   "outputs": [],
   "source": [
    "i= 2\n",
    "f = 0.5\n",
    "print(type(1/0.5))\n",
    "# % remainder of division\n",
    "# ** in a power of\n",
    "# ** 0.5: square root"
   ]
  },
  {
   "cell_type": "markdown",
   "metadata": {},
   "source": [
    "**Strings:**"
   ]
  },
  {
   "cell_type": "code",
   "execution_count": null,
   "metadata": {},
   "outputs": [],
   "source": [
    "my_str = 'test string'\n",
    "for char in my_str:\n",
    "    print(char)\n",
    "print(my_str[0:3])\n",
    "print(my_str[::-1])\n",
    "print(len(my_str[::-1]))\n",
    "print(my_str.split('r'))\n",
    "print(my_str.upper())\n",
    "print(my_str.capitalize())\n",
    "print(my_str.title())\n",
    "#its can not be reassigned:\n",
    "#my_str[0] = 'a'\n",
    "my_str = 'a'*10\n",
    "print(my_str)"
   ]
  },
  {
   "cell_type": "markdown",
   "metadata": {},
   "source": [
    "**Lists:** ordered sequence of objects. Mutable."
   ]
  },
  {
   "cell_type": "code",
   "execution_count": null,
   "metadata": {},
   "outputs": [],
   "source": [
    "my_lst = ['s','t','r','i','n','g']\n",
    "for el in my_lst:\n",
    "    print(el)\n",
    "print(my_lst[0:3])\n",
    "print(my_lst[::-1])\n",
    "print(my_lst[-3:-2:-1])\n",
    "print(len(my_lst[::-1]))\n",
    "print(my_lst.pop())\n",
    "print(my_lst.append('k'))\n",
    "print(my_lst.sort())\n",
    "print(my_lst)\n",
    "my_lst.reverse()\n",
    "print(my_lst)\n",
    "my_list = ['a']*10\n",
    "print(my_list)"
   ]
  },
  {
   "cell_type": "markdown",
   "metadata": {},
   "source": [
    "**Tuple: ** ordered sequence of objects, but immutable\n"
   ]
  },
  {
   "cell_type": "code",
   "execution_count": null,
   "metadata": {},
   "outputs": [],
   "source": [
    "my_tuple = (1,2,3,'a','d',3)\n",
    "print(my_tuple[4])\n",
    "print(my_tuple[::-1])\n",
    "print(my_tuple.count(3))\n",
    "print(my_tuple.index('d'))\n",
    "items=[(1,2),(3,4),(5,6)]\n",
    "for k,l in items:\n",
    "    print(k)\n",
    "    print(l)\n",
    "#like strings, tuple can not be reassigned:\n",
    "#tuples its used to make sure that the data will not be modified\n",
    "#my_tuple[0] = 'a'"
   ]
  },
  {
   "cell_type": "markdown",
   "metadata": {},
   "source": [
    "**Dictionary: **\n",
    "unordered mapings for storing objects <br>\n",
    "Normal dictionaries cannot be ordered because are mappings not sequences (there is an ordereddictionaries too)"
   ]
  },
  {
   "cell_type": "code",
   "execution_count": null,
   "metadata": {},
   "outputs": [],
   "source": [
    "my_dict = {'msg':'I love you','name':'Naia','age':36}\n",
    "print(my_dict['msg']+\" \"+my_dict['name']+\" despite your \"+str(my_dict['age'])+\" years old!\")\n",
    "print(my_dict.keys())\n",
    "print(my_dict.values())\n",
    "print(my_dict.items()) #returns a tuple list\n",
    "a = "
   ]
  },
  {
   "cell_type": "markdown",
   "metadata": {},
   "source": [
    "**Sets: ** unordered collections of unique elements"
   ]
  },
  {
   "cell_type": "code",
   "execution_count": null,
   "metadata": {},
   "outputs": [],
   "source": [
    "my_set = set()\n",
    "my_set.add(1)\n",
    "my_set.add(1)\n",
    "my_set.add(2)\n",
    "print(my_set)\n",
    "print(my_set.\n",
    "my_list = [4, 4, 4, 4, 44, 3, 4, 1, 3, 3, 1, 1, 1, 1, 1]\n",
    "print(set(my_list))#Remember that sets dont have any particular order"
   ]
  },
  {
   "cell_type": "markdown",
   "metadata": {},
   "source": [
    "**List Comprehensions:**"
   ]
  },
  {
   "cell_type": "code",
   "execution_count": null,
   "metadata": {},
   "outputs": [],
   "source": [
    "mystring = \"now we will go\"\n",
    "mylist = [x for x in mystring]\n",
    "print(mylist)\n",
    "mylist = [x*2 for x in range(2,17,2)]\n",
    "print(mylist)\n",
    "celcius = [0, 10, 20, 37, 100]\n",
    "fahrenheit = [ (x*9/5 + 32) for x in celcius]\n",
    "print(fahrenheit)"
   ]
  },
  {
   "cell_type": "code",
   "execution_count": null,
   "metadata": {},
   "outputs": [],
   "source": [
    "# Be aware that type of expression tends to create a ugly code with low maintainability\n",
    "mylist = [x*2 for x in range(2,17,2) if x%3 == 0]\n",
    "print(mylist)\n",
    "mylist = [x if x%2 == 0 else 'ODD' for x in range(1,10)]\n",
    "print(mylist)\n",
    "mylist = [x*y for x in [1, 2, 3] for y in [10, 100, 1000]]\n",
    "print(mylist)"
   ]
  },
  {
   "cell_type": "markdown",
   "metadata": {},
   "source": [
    "**Useful Operations:**"
   ]
  },
  {
   "cell_type": "code",
   "execution_count": null,
   "metadata": {},
   "outputs": [],
   "source": [
    "print(range(5,11))\n",
    "print(list(range(5)))\n",
    "print(tuple(range(0,11,2)))\n",
    "print(set(range(3)))"
   ]
  },
  {
   "cell_type": "code",
   "execution_count": null,
   "metadata": {},
   "outputs": [],
   "source": [
    "mylst = list(range(10))\n",
    "mydict = {'name':'Gabi','age':2}\n",
    "print(10 in mylst)\n",
    "print('name' in mydict)\n",
    "print(2 in mydict.values())"
   ]
  },
  {
   "cell_type": "code",
   "execution_count": null,
   "metadata": {},
   "outputs": [],
   "source": [
    "mylst = list(range(5,11,2))\n",
    "print(min(mylst))\n",
    "print(max(mylst))\n",
    "print(len(mylst))"
   ]
  },
  {
   "cell_type": "code",
   "execution_count": null,
   "metadata": {},
   "outputs": [],
   "source": [
    "from random import shuffle,randint\n",
    "mylst = list(range(5,16,2))\n",
    "shuffle(mylst)\n",
    "print(mylst)\n",
    "print(randint(1,100))"
   ]
  },
  {
   "cell_type": "code",
   "execution_count": null,
   "metadata": {},
   "outputs": [],
   "source": [
    "mystr = 'this is my string'\n",
    "for index,letter in enumerate(mystr):\n",
    "    print(\"Index: {}, letter: {}\".format(index, letter))\n",
    "    "
   ]
  },
  {
   "cell_type": "code",
   "execution_count": null,
   "metadata": {},
   "outputs": [],
   "source": [
    "list1 = [1, 2, 3, 4, 5, 6, 7, 8, 9, 10]\n",
    "list2 = ['a', 'b', 'c']\n",
    "list3 = [1.0, 2.4, 4.2]\n",
    "for tp in zip(list1, list2, list3):\n",
    "    print(tp)\n",
    "print(list(zip(list1, list2, list3)))\n",
    "print(tuple(zip(list1, list2, list3)))\n",
    "print(set(zip(list1, list2, list3)))"
   ]
  },
  {
   "cell_type": "code",
   "execution_count": null,
   "metadata": {},
   "outputs": [],
   "source": [
    "a=['1','2','3','4','5']\n",
    "b=[7,6,5,4,3,2,1]\n",
    "### Difference between lists:\n",
    "list(set(b) - set(a))"
   ]
  },
  {
   "cell_type": "code",
   "execution_count": null,
   "metadata": {},
   "outputs": [],
   "source": [
    "### List intersection:\n",
    "set(b).intersection(a)"
   ]
  },
  {
   "cell_type": "code",
   "execution_count": null,
   "metadata": {},
   "outputs": [],
   "source": [
    "### Convert list of strings elements into a string\n",
    "\"\".join(a)"
   ]
  },
  {
   "cell_type": "code",
   "execution_count": null,
   "metadata": {},
   "outputs": [],
   "source": [
    "# Error and exceptions\n",
    "while True:\n",
    "    try:\n",
    "        my_int = int(raw_input(\"Put a integer: \"))\n",
    "    except:\n",
    "        print(\"Oops, its not a string!\")\n",
    "        continue\n",
    "    else:\n",
    "        print(\"Thanks!\")\n",
    "        break\n",
    "    finally:\n",
    "        print(\"This is interesting for close file handles.\")\n",
    "        "
   ]
  },
  {
   "cell_type": "markdown",
   "metadata": {},
   "source": [
    "---\n",
    "**__main__:**"
   ]
  },
  {
   "cell_type": "code",
   "execution_count": null,
   "metadata": {},
   "outputs": [],
   "source": [
    "if __name__ == '__main__':\n",
    "\tunittest.main()"
   ]
  },
  {
   "cell_type": "markdown",
   "metadata": {},
   "source": [
    "---\n",
    "**FILES IO:**"
   ]
  },
  {
   "cell_type": "code",
   "execution_count": null,
   "metadata": {},
   "outputs": [],
   "source": [
    "%%writefile myfile.txt\n",
    "Hello this is my file\n",
    "This is the second line\n",
    "This is the third line"
   ]
  },
  {
   "cell_type": "code",
   "execution_count": null,
   "metadata": {},
   "outputs": [],
   "source": [
    "my_file = open(\"myfile.txt\")"
   ]
  },
  {
   "cell_type": "code",
   "execution_count": null,
   "metadata": {},
   "outputs": [],
   "source": [
    "my_file.read()"
   ]
  },
  {
   "cell_type": "code",
   "execution_count": null,
   "metadata": {},
   "outputs": [],
   "source": [
    "my_file.seek(0)\n",
    "my_file.readlines()"
   ]
  },
  {
   "cell_type": "code",
   "execution_count": null,
   "metadata": {},
   "outputs": [],
   "source": [
    "my_file.seek(1)\n",
    "my_file.readline()\n",
    "my_file.close()"
   ]
  },
  {
   "cell_type": "code",
   "execution_count": null,
   "metadata": {},
   "outputs": [],
   "source": [
    "#For dont worry about closing the file:\n",
    "with open(\"myfile.txt\") as my_file_var:\n",
    "    contents = my_file_var.read()\n",
    "print(contents)"
   ]
  },
  {
   "cell_type": "code",
   "execution_count": null,
   "metadata": {},
   "outputs": [],
   "source": [
    "with open(\"myfile.txt\",mode='r') as my_file_var:\n",
    "    contents = my_file_var.read()\n",
    "print(contents)\n",
    "'''\n",
    "'r'       read only (default)\n",
    "'r+'      read and writing\n",
    "'w'       write only, will overwite the file or create a new one\n",
    "'w+'      read and write, will overwite the file or create a new one\n",
    "'a'       appending only to the end of the file if it exists\n",
    "'x'       creates a new file and open it for writing\n",
    "'''\n",
    "with open(\"myfile.txt\",mode='a') as f:\n",
    "    f.write(\"\\nThis is the fourth line\")\n",
    "with open(\"myfile.txt\",mode='r') as f:\n",
    "    contents = f.read()\n",
    "print('---')\n",
    "print(contents)"
   ]
  },
  {
   "cell_type": "markdown",
   "metadata": {},
   "source": [
    "---\n",
    "**Function:** <br>\n",
    "-- The arguments are passed by value"
   ]
  },
  {
   "cell_type": "code",
   "execution_count": null,
   "metadata": {},
   "outputs": [],
   "source": [
    "# *args returns back a tuple with all the parameters: you can pass any arguments as you want.\n",
    "# By convention, the developers use \"args\", but can be another name\n",
    "def myfunc(*args):\n",
    "    print(args)\n",
    "    return(sum(args))\n",
    "myfunc(5,5,10,100)"
   ]
  },
  {
   "cell_type": "code",
   "execution_count": null,
   "metadata": {},
   "outputs": [],
   "source": [
    "# *kwargs returns back a dictionary\n",
    "# by convention, the developers use \"kwargs\" with the name of argument.\n",
    "def myfunc(**kwargs):\n",
    "    print(\"My prefered fruit is {}. My name is {}\".format(kwargs['fruit'],kwargs['name']))\n",
    "myfunc(name='emerson', fruit='apple', veggie = 'lectucce' )"
   ]
  },
  {
   "cell_type": "code",
   "execution_count": null,
   "metadata": {},
   "outputs": [],
   "source": [
    "def myfunc(*args,**kwargs):\n",
    "    print(\"This the result: {} and {}\".format(args[0],kwargs['name']))\n",
    "myfunc(10,20,30,name='emerson', fruit='apple')"
   ]
  },
  {
   "cell_type": "markdown",
   "metadata": {},
   "source": [
    "---\n",
    "**Lambda, maps and filters:** <br>"
   ]
  },
  {
   "cell_type": "code",
   "execution_count": null,
   "metadata": {},
   "outputs": [],
   "source": [
    "def square(x):\n",
    "    return x**2\n",
    "mylist = [1,2,3,4,5]\n",
    "for item in map(square,mylist):\n",
    "    print(item)\n",
    "print(list(map(square,mylist)))"
   ]
  },
  {
   "cell_type": "code",
   "execution_count": null,
   "metadata": {},
   "outputs": [],
   "source": [
    "def check_even(x):\n",
    "    return x%2 == 0\n",
    "mylist = list(range(11))\n",
    "for n in filter(check_even,mylist):\n",
    "    print(n)\n",
    "mylist1 = list(filter(check_even,mylist))\n",
    "print(mylist1)"
   ]
  },
  {
   "cell_type": "code",
   "execution_count": null,
   "metadata": {},
   "outputs": [],
   "source": [
    "mylist1 = list(map(lambda x:x**2,mylist))\n",
    "print(mylist1)\n",
    "mylist2 = list(filter(lambda x:x%2==0,mylist))\n",
    "print(mylist2)"
   ]
  },
  {
   "cell_type": "markdown",
   "metadata": {},
   "source": [
    "---\n",
    "**Errors and Exception Handling:** <br>"
   ]
  },
  {
   "cell_type": "code",
   "execution_count": null,
   "metadata": {},
   "outputs": [],
   "source": [
    "try:\n",
    "    # open file stream\n",
    "    file = open(\"mytest\", \"w\")\n",
    "    #a = 1/0\n",
    "except IOError:\n",
    "    print \"There was an error writing to\", file_name\n",
    "    sys.exit()\n",
    "except:\n",
    "    print \"Whoops! Its occurs another error\"\n",
    "else:\n",
    "    print(\"OK, it works well\")\n",
    "finally:\n",
    "    print(\"This is allways executed\")"
   ]
  },
  {
   "cell_type": "markdown",
   "metadata": {},
   "source": [
    "---\n",
    "**Pylint and Unittest:** <br>"
   ]
  },
  {
   "cell_type": "code",
   "execution_count": null,
   "metadata": {},
   "outputs": [],
   "source": [
    "#Pylint: test your code and reports back possible errors and styling (PEP 8).\n",
    "\n",
    "#Unitest: in the class: you needs to use an external editor\n",
    "import unittest\n",
    "#import mymodule\n",
    "class Test_mymodule(unittest.TestCase):\n",
    "    def my_first_test():\n",
    "        text = 'python'\n",
    "        #result = mymodule.cap(text)\n",
    "        result = \"Python\"\n",
    "        self.assertEqual(result,\"Python\")\n",
    "unittest.main()"
   ]
  },
  {
   "cell_type": "markdown",
   "metadata": {},
   "source": [
    "---\n",
    "**Decorators:** <br>\n",
    "-- Allow you to tack on extra functionality to an already existing code <br>\n",
    "-- It's on/off switch <br>\n",
    "-- It's usefull for frameworks <br>"
   ]
  },
  {
   "cell_type": "code",
   "execution_count": 103,
   "metadata": {},
   "outputs": [
    {
     "name": "stdout",
     "output_type": "stream",
     "text": [
      "New code before the original\n",
      "Original Code\n",
      "New code after the original\n"
     ]
    }
   ],
   "source": [
    "def my_print():\n",
    "    print \"Original Code\"\n",
    "def new_decorator(original_func):\n",
    "    def wrap_func():\n",
    "        print(\"New code before the original\")\n",
    "        original_func()\n",
    "        print(\"New code after the original\")\n",
    "    return wrap_func\n",
    "funcion_pos = new_decorator(my_print)\n",
    "funcion_pos()"
   ]
  },
  {
   "cell_type": "code",
   "execution_count": 104,
   "metadata": {},
   "outputs": [
    {
     "name": "stdout",
     "output_type": "stream",
     "text": [
      "New code before the original\n",
      "My print\n",
      "New code after the original\n"
     ]
    }
   ],
   "source": [
    "@new_decorator\n",
    "def my_func():\n",
    "    print(\"My print\")\n",
    "\n",
    "my_func()"
   ]
  },
  {
   "cell_type": "code",
   "execution_count": null,
   "metadata": {},
   "outputs": [],
   "source": []
  }
 ],
 "metadata": {
  "kernelspec": {
   "display_name": "Python 2",
   "language": "python",
   "name": "python2"
  },
  "language_info": {
   "codemirror_mode": {
    "name": "ipython",
    "version": 2
   },
   "file_extension": ".py",
   "mimetype": "text/x-python",
   "name": "python",
   "nbconvert_exporter": "python",
   "pygments_lexer": "ipython2",
   "version": "2.7.15"
  }
 },
 "nbformat": 4,
 "nbformat_minor": 2
}
