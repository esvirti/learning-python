{
 "cells": [
  {
   "cell_type": "markdown",
   "metadata": {},
   "source": [
    "**Input:**"
   ]
  },
  {
   "cell_type": "code",
   "execution_count": 2,
   "metadata": {},
   "outputs": [],
   "source": [
    "#Python3: my_str = input(\"Choose on symbol Y/N: \")\n",
    "my_str = raw_input(\"Choose on symbol Y/N: \")"
   ]
  },
  {
   "cell_type": "markdown",
   "metadata": {},
   "source": [
    "**Data Structures:**"
   ]
  },
  {
   "cell_type": "code",
   "execution_count": 3,
   "metadata": {},
   "outputs": [],
   "source": [
    "#Lists:\n",
    "my_list = ['a']"
   ]
  },
  {
   "cell_type": "code",
   "execution_count": 3,
   "metadata": {},
   "outputs": [
    {
     "name": "stdout",
     "output_type": "stream",
     "text": [
      "Oops, its not a string!\n",
      "This is interesting for close file handles.\n",
      "Thanks!\n",
      "This is interesting for close file handles.\n"
     ]
    }
   ],
   "source": [
    "while True:\n",
    "    try:\n",
    "        my_int = int(raw_input(\"Put a integer: \"))\n",
    "    except:\n",
    "        print(\"Oops, its not a string!\")\n",
    "        continue\n",
    "    else:\n",
    "        print(\"Thanks!\")\n",
    "        break\n",
    "    finally:\n",
    "        print(\"This is interesting for close file handles.\")"
   ]
  },
  {
   "cell_type": "code",
   "execution_count": null,
   "metadata": {},
   "outputs": [],
   "source": []
  }
 ],
 "metadata": {
  "kernelspec": {
   "display_name": "Python 2",
   "language": "python",
   "name": "python2"
  },
  "language_info": {
   "codemirror_mode": {
    "name": "ipython",
    "version": 2
   },
   "file_extension": ".py",
   "mimetype": "text/x-python",
   "name": "python",
   "nbconvert_exporter": "python",
   "pygments_lexer": "ipython2",
   "version": "2.7.15"
  }
 },
 "nbformat": 4,
 "nbformat_minor": 2
}
